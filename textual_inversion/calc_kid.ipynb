{
 "cells": [
  {
   "cell_type": "code",
   "execution_count": 2,
   "metadata": {},
   "outputs": [],
   "source": [
    "import os\n",
    "import torch\n",
    "from torchmetrics.image.kid import KernelInceptionDistance\n",
    "from torchvision.io import read_image\n",
    "\n",
    "def get_features(directory):\n",
    "    image_paths = [os.path.join(directory, fname) for fname in os.listdir(directory) if fname.endswith(('.png', '.jpg'))]\n",
    "    imgs = [read_image(image_path) for image_path in image_paths]\n",
    "    return torch.reshape(torch.cat([p for p in imgs]), (len(imgs), 3, imgs[0].shape[1], -1))\n",
    "\n",
    "def get_kid(folder1, folder2, to_print=True):\n",
    "    a = get_features(folder1)\n",
    "    b = get_features(folder2)\n",
    "\n",
    "    kid = KernelInceptionDistance(subset_size=10)\n",
    "    kid.update(a, real=True)\n",
    "    kid.update(b, real=False)\n",
    "    kid_score = kid.compute()\n",
    "    if to_print:\n",
    "        print(f\"KID Score: Mean {kid_score[0]:.3f}, StdDev {kid_score[1]:.3f}\")\n",
    "    return kid_score"
   ]
  },
  {
   "cell_type": "code",
   "execution_count": 14,
   "metadata": {},
   "outputs": [
    {
     "name": "stderr",
     "output_type": "stream",
     "text": [
      "/home/ubuntu/venv_lora/lib/python3.10/site-packages/torchmetrics/utilities/prints.py:43: UserWarning: Metric `Kernel Inception Distance` will save all extracted features in buffer. For large datasets this may lead to large memory footprint.\n",
      "  warnings.warn(*args, **kwargs)  # noqa: B028\n"
     ]
    },
    {
     "name": "stdout",
     "output_type": "stream",
     "text": [
      "KID Score: Mean 0.174, StdDev 0.025\n"
     ]
    }
   ],
   "source": [
    "_ = get_kid('/home/ubuntu/textual_inversion/img/Spiderman_spideruniverse_mask',\n",
    "        '/home/ubuntu/textual_inversion/outputs/txt2img-samples/baseline_spiderman/samples')"
   ]
  },
  {
   "cell_type": "code",
   "execution_count": 3,
   "metadata": {},
   "outputs": [
    {
     "name": "stderr",
     "output_type": "stream",
     "text": [
      "/home/ubuntu/venv_lora/lib/python3.10/site-packages/torchmetrics/utilities/prints.py:43: UserWarning: Metric `Kernel Inception Distance` will save all extracted features in buffer. For large datasets this may lead to large memory footprint.\n",
      "  warnings.warn(*args, **kwargs)  # noqa: B028\n"
     ]
    },
    {
     "name": "stdout",
     "output_type": "stream",
     "text": [
      "KID Score: Mean 0.121, StdDev 0.019\n"
     ]
    },
    {
     "data": {
      "text/plain": [
       "(tensor(0.1209), tensor(0.0187))"
      ]
     },
     "execution_count": 3,
     "metadata": {},
     "output_type": "execute_result"
    }
   ],
   "source": [
    "get_kid('/home/ubuntu/textual_inversion/img/Spiderman_spideruniverse_mask',\n",
    "        '/home/ubuntu/textual_inversion/outputs/txt2img-samples/a-photo-of-spiderman')"
   ]
  },
  {
   "cell_type": "code",
   "execution_count": 7,
   "metadata": {},
   "outputs": [
    {
     "name": "stderr",
     "output_type": "stream",
     "text": [
      "/home/ubuntu/venv_lora/lib/python3.10/site-packages/torchmetrics/utilities/prints.py:43: UserWarning: Metric `Kernel Inception Distance` will save all extracted features in buffer. For large datasets this may lead to large memory footprint.\n",
      "  warnings.warn(*args, **kwargs)  # noqa: B028\n"
     ]
    },
    {
     "name": "stdout",
     "output_type": "stream",
     "text": [
      "KID Score: Mean 0.082, StdDev 0.015\n"
     ]
    },
    {
     "data": {
      "text/plain": [
       "(tensor(0.0824), tensor(0.0145))"
      ]
     },
     "execution_count": 7,
     "metadata": {},
     "output_type": "execute_result"
    }
   ],
   "source": [
    "get_kid('/home/ubuntu/textual_inversion/img/Spiderman_spideruniverse_mask',\n",
    "        '/home/ubuntu/textual_inversion/outputs/txt2img-samples/spiderman_vec5/samples')"
   ]
  },
  {
   "cell_type": "code",
   "execution_count": 8,
   "metadata": {},
   "outputs": [
    {
     "name": "stdout",
     "output_type": "stream",
     "text": [
      "KID Score: Mean 0.079, StdDev 0.015\n"
     ]
    },
    {
     "data": {
      "text/plain": [
       "(tensor(0.0786), tensor(0.0147))"
      ]
     },
     "execution_count": 8,
     "metadata": {},
     "output_type": "execute_result"
    }
   ],
   "source": [
    "get_kid('/home/ubuntu/textual_inversion/img/Spiderman_spideruniverse_mask',\n",
    "        '/home/ubuntu/textual_inversion/outputs/txt2img-samples/spiderman_vec20/samples')"
   ]
  },
  {
   "cell_type": "code",
   "execution_count": 11,
   "metadata": {},
   "outputs": [
    {
     "name": "stdout",
     "output_type": "stream",
     "text": [
      "KID Score: Mean 0.114, StdDev 0.014\n"
     ]
    },
    {
     "data": {
      "text/plain": [
       "(tensor(0.1136), tensor(0.0141))"
      ]
     },
     "execution_count": 11,
     "metadata": {},
     "output_type": "execute_result"
    }
   ],
   "source": [
    "get_kid('/home/ubuntu/textual_inversion/img/Spiderman_spideruniverse_mask',\n",
    "        '/home/ubuntu/textual_inversion/outputs/txt2img-samples/a-photo-of-spiderman-vec40')"
   ]
  },
  {
   "cell_type": "code",
   "execution_count": 22,
   "metadata": {},
   "outputs": [
    {
     "name": "stderr",
     "output_type": "stream",
     "text": [
      "/home/ubuntu/venv_lora/lib/python3.10/site-packages/torchmetrics/utilities/prints.py:43: UserWarning: Metric `Kernel Inception Distance` will save all extracted features in buffer. For large datasets this may lead to large memory footprint.\n",
      "  warnings.warn(*args, **kwargs)  # noqa: B028\n"
     ]
    },
    {
     "name": "stdout",
     "output_type": "stream",
     "text": [
      "KID Score: Mean 0.076, StdDev 0.017\n"
     ]
    },
    {
     "data": {
      "text/plain": [
       "(tensor(0.0765), tensor(0.0173))"
      ]
     },
     "execution_count": 22,
     "metadata": {},
     "output_type": "execute_result"
    }
   ],
   "source": [
    "get_kid('/home/ubuntu/textual_inversion/img/Spiderman_spideruniverse_mask',\n",
    "        '/home/ubuntu/textual_inversion/outputs/txt2img-samples/a-photo-of-spiderman-vec40-v2/samples')"
   ]
  },
  {
   "cell_type": "code",
   "execution_count": 17,
   "metadata": {},
   "outputs": [
    {
     "name": "stdout",
     "output_type": "stream",
     "text": [
      "KID Score: Mean 0.251, StdDev 0.019\n"
     ]
    },
    {
     "data": {
      "text/plain": [
       "(tensor(0.2509), tensor(0.0186))"
      ]
     },
     "execution_count": 17,
     "metadata": {},
     "output_type": "execute_result"
    }
   ],
   "source": [
    "get_kid('/home/ubuntu/textual_inversion/img/mumbattan',\n",
    "        '/home/ubuntu/textual_inversion/outputsc/baseline_world_of_mumbattan/samples')"
   ]
  },
  {
   "cell_type": "code",
   "execution_count": 20,
   "metadata": {},
   "outputs": [
    {
     "name": "stdout",
     "output_type": "stream",
     "text": [
      "KID Score: Mean 0.049, StdDev 0.009\n"
     ]
    },
    {
     "data": {
      "text/plain": [
       "(tensor(0.0494), tensor(0.0089))"
      ]
     },
     "execution_count": 20,
     "metadata": {},
     "output_type": "execute_result"
    }
   ],
   "source": [
    "get_kid('/home/ubuntu/textual_inversion/img/mumbattan',\n",
    "        '/home/ubuntu/textual_inversion/outputs/txt2img-samples/world-of-mumbattan/samples')"
   ]
  },
  {
   "cell_type": "code",
   "execution_count": 28,
   "metadata": {},
   "outputs": [
    {
     "name": "stdout",
     "output_type": "stream",
     "text": [
      "KID Score: Mean 0.251, StdDev 0.012\n"
     ]
    },
    {
     "data": {
      "text/plain": [
       "(tensor(0.2514), tensor(0.0119))"
      ]
     },
     "execution_count": 28,
     "metadata": {},
     "output_type": "execute_result"
    }
   ],
   "source": [
    "get_kid('/home/ubuntu/textual_inversion/img/Spiderman_mumbattan_mask/Spiderman_mumbattan_mask',\n",
    "        '/home/ubuntu/textual_inversion/outputs/txt2img-samples/baseline-spiderman-in-mumbattan/samples')"
   ]
  },
  {
   "cell_type": "code",
   "execution_count": 24,
   "metadata": {},
   "outputs": [
    {
     "name": "stderr",
     "output_type": "stream",
     "text": [
      "/home/ubuntu/venv_lora/lib/python3.10/site-packages/torchmetrics/utilities/prints.py:43: UserWarning: Metric `Kernel Inception Distance` will save all extracted features in buffer. For large datasets this may lead to large memory footprint.\n",
      "  warnings.warn(*args, **kwargs)  # noqa: B028\n"
     ]
    },
    {
     "name": "stdout",
     "output_type": "stream",
     "text": [
      "KID Score: Mean 0.120, StdDev 0.014\n"
     ]
    },
    {
     "data": {
      "text/plain": [
       "(tensor(0.1197), tensor(0.0143))"
      ]
     },
     "execution_count": 24,
     "metadata": {},
     "output_type": "execute_result"
    }
   ],
   "source": [
    "get_kid('/home/ubuntu/textual_inversion/img/Spiderman_mumbattan_mask/Spiderman_mumbattan_mask',\n",
    "        '/home/ubuntu/textual_inversion/outputs/txt2img-samples/merged-spiderman-vec40-mumbattan-vec1/samples')"
   ]
  },
  {
   "cell_type": "code",
   "execution_count": 26,
   "metadata": {},
   "outputs": [
    {
     "name": "stdout",
     "output_type": "stream",
     "text": [
      "KID Score: Mean 0.135, StdDev 0.010\n"
     ]
    },
    {
     "data": {
      "text/plain": [
       "(tensor(0.1352), tensor(0.0101))"
      ]
     },
     "execution_count": 26,
     "metadata": {},
     "output_type": "execute_result"
    }
   ],
   "source": [
    "get_kid('/home/ubuntu/textual_inversion/img/Spiderman_mumbattan_mask/Spiderman_mumbattan_mask',\n",
    "        '/home/ubuntu/textual_inversion/outputs/txt2img-samples/merged-spiderman-in-mumbattan-vec1')"
   ]
  },
  {
   "cell_type": "code",
   "execution_count": 27,
   "metadata": {},
   "outputs": [
    {
     "name": "stdout",
     "output_type": "stream",
     "text": [
      "KID Score: Mean 0.386, StdDev 0.021\n"
     ]
    },
    {
     "data": {
      "text/plain": [
       "(tensor(0.3858), tensor(0.0207))"
      ]
     },
     "execution_count": 27,
     "metadata": {},
     "output_type": "execute_result"
    }
   ],
   "source": [
    "get_kid('/home/ubuntu/textual_inversion/img/Spiderman_mumbattan_mask/Spiderman_mumbattan_mask',\n",
    "        '/home/ubuntu/textual_inversion/outputs/txt2img-samples/merged-spiderman-in-mumbattan-vec40')"
   ]
  }
 ],
 "metadata": {
  "kernelspec": {
   "display_name": "venv_lora",
   "language": "python",
   "name": "python3"
  },
  "language_info": {
   "codemirror_mode": {
    "name": "ipython",
    "version": 3
   },
   "file_extension": ".py",
   "mimetype": "text/x-python",
   "name": "python",
   "nbconvert_exporter": "python",
   "pygments_lexer": "ipython3",
   "version": "3.10.9"
  }
 },
 "nbformat": 4,
 "nbformat_minor": 2
}
